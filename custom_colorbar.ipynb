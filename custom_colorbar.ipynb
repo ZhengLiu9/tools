{
 "cells": [
  {
   "cell_type": "code",
   "execution_count": 270,
   "metadata": {},
   "outputs": [
    {
     "data": {
      "text/html": [
       "<div>\n",
       "<style scoped>\n",
       "    .dataframe tbody tr th:only-of-type {\n",
       "        vertical-align: middle;\n",
       "    }\n",
       "\n",
       "    .dataframe tbody tr th {\n",
       "        vertical-align: top;\n",
       "    }\n",
       "\n",
       "    .dataframe thead th {\n",
       "        text-align: right;\n",
       "    }\n",
       "</style>\n",
       "<table border=\"1\" class=\"dataframe\">\n",
       "  <thead>\n",
       "    <tr style=\"text-align: right;\">\n",
       "      <th></th>\n",
       "      <th>color</th>\n",
       "      <th>text</th>\n",
       "    </tr>\n",
       "  </thead>\n",
       "  <tbody>\n",
       "    <tr>\n",
       "      <th>0</th>\n",
       "      <td>(0.4, 0.2, 0.3, 1)</td>\n",
       "      <td>a</td>\n",
       "    </tr>\n",
       "    <tr>\n",
       "      <th>1</th>\n",
       "      <td>(0.2, 0.8, 0.14, 0.8)</td>\n",
       "      <td>b</td>\n",
       "    </tr>\n",
       "    <tr>\n",
       "      <th>2</th>\n",
       "      <td>(1, 0.5, 0.3, 1)</td>\n",
       "      <td>c</td>\n",
       "    </tr>\n",
       "  </tbody>\n",
       "</table>\n",
       "</div>"
      ],
      "text/plain": [
       "                   color text\n",
       "0     (0.4, 0.2, 0.3, 1)    a\n",
       "1  (0.2, 0.8, 0.14, 0.8)    b\n",
       "2       (1, 0.5, 0.3, 1)    c"
      ]
     },
     "execution_count": 270,
     "metadata": {},
     "output_type": "execute_result"
    }
   ],
   "source": [
    "import matplotlib.pyplot as plt\n",
    "import pandas as pd\n",
    "import custom_colorbar as cc\n",
    "\n",
    "colors = [(0.4, 0.2, 0.3, 1),\n",
    "    (0.2,0.8, 0.14, 0.8),\n",
    "    (1, 0.5, 0.3,1)]\n",
    "tlist = ['a', 'b','c']\n",
    "df_colormap = pd.DataFrame(np.array([colors, tlist]).T, columns=['color', 'text'])\n",
    "df_colormap"
   ]
  },
  {
   "cell_type": "code",
   "execution_count": 271,
   "metadata": {},
   "outputs": [
    {
     "data": {
      "text/plain": [
       "<matplotlib.axes._subplots.AxesSubplot at 0x7f6212426b00>"
      ]
     },
     "execution_count": 271,
     "metadata": {},
     "output_type": "execute_result"
    },
    {
     "data": {
      "image/png": "[encoded data removed]",
      "text/plain": [
       "<Figure size 360x360 with 1 Axes>"
      ]
     },
     "metadata": {
      "needs_background": "light"
     },
     "output_type": "display_data"
    }
   ],
   "source": [
    "w = 1\n",
    "h = 0.3\n",
    "g = 0.1\n",
    "\n",
    "f, ax = plt.subplots(figsize=(5,5))\n",
    "cc.draw_colormap(df_colormap, \n",
    "                 ax,\n",
    "                 w=1, \n",
    "                 h=0.3, \n",
    "                 g=0.1, \n",
    "                 direction='vertical',\n",
    "                 text_offset=(w*1.1 , h*0.4),\n",
    "                 fontsize=20, \n",
    "                 rotation=0)"
   ]
  }
 ],
 "metadata": {
  "kernelspec": {
   "display_name": "general",
   "language": "python",
   "name": "general"
  },
  "language_info": {
   "codemirror_mode": {
    "name": "ipython",
    "version": 3
   },
   "file_extension": ".py",
   "mimetype": "text/x-python",
   "name": "python",
   "nbconvert_exporter": "python",
   "pygments_lexer": "ipython3",
   "version": "3.6.9"
  }
 },
 "nbformat": 4,
 "nbformat_minor": 4
}
